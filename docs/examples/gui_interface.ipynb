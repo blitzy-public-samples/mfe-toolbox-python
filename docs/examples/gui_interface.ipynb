# ARMAX GUI Interface Tutorial

This notebook demonstrates how to use the PyQt6-based ARMAX GUI for interactive time series modeling. The ARMAX (AutoRegressive Moving Average with eXogenous inputs) GUI provides an intuitive interface for building, estimating, and diagnosing time series models without writing extensive code.

## Overview

In this tutorial, we'll cover:

1. Launching the ARMAX GUI
2. Loading and preparing data
3. Building and estimating models
4. Interpreting results
5. Diagnostic analysis
6. Forecasting
7. Exporting results
8. Extending the GUI programmatically
9. Understanding the asynchronous processing model

The ARMAX GUI is built using PyQt6, a modern Python binding for the Qt application framework, providing a responsive and feature-rich user experience with asynchronous processing capabilities.

---

## 1. Launching the ARMAX GUI

The ARMAX GUI can be launched directly from Python using the `launch_armax_gui` function. Let's first import the necessary modules:

```python
import numpy as np
import pandas as pd
import matplotlib.pyplot as plt
from mfe.ui.armax_app import launch_armax_gui

# Set the random seed for reproducibility
np.random.seed(42)
```

### Simple Launch

To launch the GUI with default settings, simply call the `launch_armax_gui` function. Note that this will open a new window and block execution of the notebook until the window is closed.

```python
# Uncomment to launch the GUI with default settings
# launch_armax_gui()
```

---

## 2. Loading and Preparing Data

Before launching the GUI, let's create some sample time series data with known properties that we can use to demonstrate the modeling capabilities.

```python
# Create a date range for our time series
dates = pd.date_range(start='2020-01-01', periods=500, freq='B')

# Create an AR(2) process: y_t = 0.5 + 0.7*y_{t-1} - 0.3*y_{t-2} + ε_t
# where ε_t is white noise with standard deviation 1
n = len(dates)
y = np.zeros(n)
e = np.random.normal(0, 1, n)

# Set the true parameters
constant = 0.5
ar1 = 0.7
ar2 = -0.3

# Generate the AR(2) process
for t in range(2, n):
    y[t] = constant + ar1 * y[t-1] + ar2 * y[t-2] + e[t]

# Convert to a pandas Series with the date index
ts_data = pd.Series(y, index=dates, name='AR(2) Process')

# Create an exogenous variable (e.g., a seasonal component)
exog = pd.Series(np.sin(np.arange(n) * 2 * np.pi / 50), index=dates, name='Seasonal')

# Plot the data
plt.figure(figsize=(12, 6))
plt.plot(ts_data, label='AR(2) Process')
plt.plot(exog, label='Exogenous Variable (Seasonal)', alpha=0.7)
plt.title('Sample Time Series Data')
plt.legend()
plt.grid(True)
plt.show()
```

### Launching the GUI with Custom Data

Now that we have our time series data, we can launch the GUI with this data. We'll also provide the exogenous variable.

```python
# Create a DataFrame with both the time series and exogenous variable
data_with_exog = pd.DataFrame({'y': ts_data, 'exog': exog})

# Uncomment to launch the GUI with our custom data
# launch_armax_gui(data=data_with_exog['y'], exog=data_with_exog[['exog']])
```

---

## 3. The ARMAX GUI Interface

When you launch the ARMAX GUI, you'll see a window similar to the one shown below:

![ARMAX GUI Main Interface](../user_guide/images/armax_ui_components.png)

The main interface consists of several key components:

1. **Model Specification Area**: Controls for setting AR and MA orders, including/excluding constant terms, and defining exogenous variables
2. **Action Buttons**: Buttons for estimating models, resetting parameters, and accessing help
3. **Visualization Area**: Displays the original time series data and model residuals
4. **Tabbed Interface**: Provides access to model results, diagnostic statistics, and additional plots
5. **Model Statistics Panel**: Displays model fit metrics such as AIC, BIC, and log-likelihood values

### Key Features of the PyQt6-based Implementation

The ARMAX GUI is built using a modern Model-View-Controller (MVC) architecture with PyQt6:

![PyQt6 MVC Architecture](../user_guide/images/pyqt6_mvc_architecture.png)

Key implementation features include:

1. **Signal-Slot Architecture**: UI interactions emit signals that connect to controller slots, creating a reactive programming pattern
2. **Asynchronous Processing**: Long-running computations execute asynchronously using Python's async/await pattern, maintaining UI responsiveness
3. **Embedded Visualization**: LaTeX rendering for mathematical equations uses matplotlib's LaTeX interpreter embedded in PyQt6 widgets
4. **Type-Safe Implementation**: Python type hints throughout the codebase improve reliability and aid development

---

## 4. Building and Estimating Models

### Setting Model Parameters

To configure your ARMAX model in the GUI:

1. **AR Order**: Set the autoregressive order using the spin box or directly enter a value
   - Click the [+] button to increment the order
   - Click the [-] button to decrement the order
   - Alternatively, type the desired order directly in the text field

2. **MA Order**: Set the moving average order using the spin box or directly enter a value
   - Controls work the same as for AR order

3. **Include Constant**: Toggle the checkbox to include or exclude a constant term in the model

4. **Exogenous Variables**: If your data includes exogenous variables, select them from the dropdown list
   - Multiple variables can be selected by holding Ctrl (or Cmd on macOS) while clicking

### Estimating the Model

Once you've configured your model parameters:

1. Click the **Estimate Model** button to start the estimation process
2. A progress indicator will appear during estimation, showing the current status
3. The interface remains responsive during estimation thanks to asynchronous processing
4. When estimation completes, the results will automatically update in the interface

### Asynchronous Processing

The asynchronous processing is a key feature of the PyQt6-based implementation, allowing the interface to remain responsive even during computationally intensive operations. This is implemented using Python's async/await pattern integrated with PyQt6's event loop.

Here's a simplified example of how this works behind the scenes:

```python
# This is a simplified example of the asynchronous processing used in the ARMAX GUI
import asyncio
from PyQt6.QtCore import QObject, pyqtSignal, QTimer

class AsyncProcessor(QObject):
    # Define signals for progress updates and completion
    progress_updated = pyqtSignal(int, str)
    computation_complete = pyqtSignal(object)
    
    def __init__(self):
        super().__init__()
        self._running = False
        
    async def estimate_model(self, data, ar_order, ma_order, include_constant):
        """Asynchronously estimate an ARMAX model."""
        self._running = True
        
        # Report initial progress
        self.progress_updated.emit(0, "Starting estimation...")
        
        # Simulate a long-running computation with progress updates
        for i in range(1, 11):
            if not self._running:
                # Check if the operation was cancelled
                return None
                
            # Simulate work
            await asyncio.sleep(0.5)  # Non-blocking sleep
            
            # Report progress
            progress_pct = i * 10
            message = f"Estimating model: {progress_pct}% complete"
            self.progress_updated.emit(progress_pct, message)
        
        # Simulate returning results
        results = {
            "parameters": {"constant": 0.5, "ar1": 0.7, "ar2": -0.3},
            "std_errors": {"constant": 0.1, "ar1": 0.05, "ar2": 0.05},
            "aic": -123.45,
            "bic": -115.67,
            "log_likelihood": 67.89
        }
        
        # Signal that computation is complete
        self.computation_complete.emit(results)
        self._running = False
        return results
    
    def cancel(self):
        """Cancel the current operation."""
        self._running = False

# This is how the controller would use the AsyncProcessor
def on_estimate_clicked():
    # Create the processor
    processor = AsyncProcessor()
    
    # Connect signals to update the UI
    processor.progress_updated.connect(update_progress_bar)
    processor.computation_complete.connect(update_results)
    
    # Start the asynchronous operation
    asyncio.create_task(processor.estimate_model(data, ar_order=2, ma_order=0, include_constant=True))

# These functions would update the UI
def update_progress_bar(percent, message):
    print(f"{message} ({percent}%)")

def update_results(results):
    print("Estimation complete!")
    print(f"Results: {results}")

# Note: In a real PyQt6 application, these functions would update actual UI elements
# This example is simplified for illustration purposes
```

---

## 5. Interpreting Results

After estimating a model, the GUI provides several ways to interpret the results:

### Model Equation Display

The model equation is displayed in mathematical notation using LaTeX rendering:

![ARMAX Model Equation](../user_guide/images/armax_equation_render.png)

This equation shows the estimated model in standard notation, with coefficients rounded to a reasonable precision.

### Parameter Table

The parameter table provides detailed information about the estimated coefficients:

![Parameter Table](../user_guide/images/parameter_table_example.png)

The table includes:
- Parameter names (Constant, AR terms, MA terms, Exogenous variables)
- Estimated coefficient values
- Standard errors
- t-statistics
- p-values with significance indicators

### Model Statistics

The Model Statistics panel displays goodness-of-fit measures:
- **Log-likelihood**: Higher values indicate better fit
- **AIC** (Akaike Information Criterion): Lower values indicate better fit
- **BIC** (Bayesian Information Criterion): Lower values indicate better fit
- **RMSE** (Root Mean Square Error): Lower values indicate better fit

---

## 6. Diagnostic Analysis

The ARMAX GUI provides comprehensive diagnostic tools to assess model adequacy:

### Residual Plots

The Residuals tab displays plots of the model residuals:

![Residual Diagnostic Plots](../user_guide/images/model_diagnostic_plots.png)

These plots help assess model adequacy:
1. **Residual Time Series**: Should show no obvious patterns
2. **Residual Histogram**: Should approximate a normal distribution
3. **Q-Q Plot**: Points should follow the diagonal line for normally distributed residuals
4. **Residual Autocorrelation**: Should show no significant autocorrelation beyond lag 0

### ACF and PACF Plots

The Correlogram tab displays Autocorrelation Function (ACF) and Partial Autocorrelation Function (PACF) plots:

![ACF and PACF Plots](../user_guide/images/acf_pacf_example.png)

These plots help assess:
1. **Residual Independence**: Significant spikes in the ACF or PACF of residuals may indicate model inadequacy
2. **Model Order Selection**: For the original series, patterns in these plots help identify appropriate AR and MA orders

### Statistical Tests

The Diagnostics tab provides formal statistical tests:
1. **Ljung-Box Test**: Tests for autocorrelation in residuals
2. **Jarque-Bera Test**: Tests for normality of residuals
3. **ARCH LM Test**: Tests for heteroskedasticity in residuals

Each test includes:
- Test statistic value
- p-value
- Critical values (where applicable)
- Pass/fail indication

---

## 7. Forecasting

The ARMAX GUI provides forecasting capabilities to project future values of the time series:

### Generating Forecasts

To generate forecasts in the GUI:
1. Navigate to the Forecasts tab
2. Set the forecast horizon (number of periods to forecast)
3. Click the **Generate Forecast** button
4. The forecast will be computed asynchronously, with a progress indicator
5. When complete, the forecast plot will display:
   - Point forecasts
   - Confidence intervals (default 95%)
   - Historical data for context

### Forecast Options

You can customize forecasts with these options:
- **Confidence Level**: Set the confidence level for prediction intervals (e.g., 90%, 95%, 99%)
- **Simulation Paths**: Set the number of Monte Carlo simulations for generating prediction intervals
- **Include Exogenous Forecasts**: If your model includes exogenous variables, you can provide forecasts for these variables

---

## 8. Exporting Results

The ARMAX GUI provides several options for exporting results:

### Saving Model Results

To save your model results:
1. Click the **Export Results** button
2. Choose from the available export formats:
   - **CSV**: Exports parameter estimates and diagnostics as CSV files
   - **Excel**: Exports all results to an Excel workbook with multiple sheets
   - **JSON**: Exports results in JSON format for programmatic use
   - **HTML**: Exports a formatted HTML report with embedded visualizations

### Copying Visualizations

To copy visualizations for use in other applications:
1. Right-click on any plot
2. Select **Copy Image** from the context menu
3. Paste the image into your document or presentation

Alternatively, you can save plots directly:
1. Right-click on any plot
2. Select **Save Image As...**
3. Choose your preferred image format (PNG, JPG, SVG, PDF)
4. Select the save location and filename

---

## 9. Extending the GUI Programmatically

The ARMAX GUI can be extended programmatically to integrate with your own analysis workflow. Here's an example of how to create a custom workflow that uses the GUI for interactive modeling and then processes the results programmatically:

```python
from mfe.ui.armax_app import ARMAXApp
from PyQt6.QtWidgets import QApplication
import sys


def custom_armax_workflow(data, exog=None):
    """Custom workflow that combines GUI interaction with programmatic processing.
    
    Parameters
    ----------
    data : pandas.Series
        The time series data to model
    exog : pandas.DataFrame, optional
        Exogenous variables to include in the model
        
    Returns
    -------
    dict
        The model results and any additional processing
    """
    # Create a QApplication instance if one doesn't exist
    app = QApplication.instance()
    if app is None:
        app = QApplication(sys.argv)
    
    # Create a custom callback to receive results when the GUI closes
    results_container = {"model_results": None}
    
    def on_model_estimated(results):
        """Callback function to receive model results."""
        results_container["model_results"] = results
        print("Model estimation complete!")
        print(f"AIC: {results.get('aic', 'N/A')}")
        print(f"BIC: {results.get('bic', 'N/A')}")
    
    # Create and configure the ARMAX app
    armax_app = ARMAXApp(data, exog=exog)
    armax_app.model_estimated.connect(on_model_estimated)
    
    # Show the GUI and wait for user interaction
    armax_app.show()
    app.exec()
    
    # Process the results after the GUI is closed
    model_results = results_container["model_results"]
    if model_results is not None:
        # Perform additional analysis on the results
        # For example, compare with another model or generate custom visualizations
        additional_analysis = {
            "custom_metric": model_results.get("log_likelihood", 0) - len(model_results.get("parameters", {})),
            "forecast_horizon": 12,  # Default forecast horizon
            # Add more custom analysis as needed
        }
        
        # Combine the model results with our additional analysis
        combined_results = {**model_results, **additional_analysis}
        return combined_results
    else:
        print("No model was estimated.")
        return None

# Example usage:
# results = custom_armax_workflow(ts_data, exog=pd.DataFrame({'seasonal': exog}))
```

### Customizing the GUI Appearance

You can also customize the appearance and behavior of the GUI by subclassing the main components:

```python
from mfe.ui.views.armax_view import ARMAXView
from mfe.ui.controllers.armax_controller import ARMAXController
from mfe.ui.models.armax_model import ARMAXModel
from PyQt6.QtWidgets import QMainWindow, QVBoxLayout, QPushButton, QWidget
from PyQt6.QtCore import pyqtSlot


class CustomARMAXView(ARMAXView):
    """Custom ARMAX view with additional features."""
    
    def __init__(self, parent=None):
        super().__init__(parent)
        self.setWindowTitle("Custom ARMAX Modeler")
        
        # Add a custom panel to the main window
        custom_panel = QWidget()
        custom_layout = QVBoxLayout(custom_panel)
        
        # Add custom buttons
        self.export_to_csv_button = QPushButton("Export to CSV")
        self.compare_models_button = QPushButton("Compare Models")
        
        custom_layout.addWidget(self.export_to_csv_button)
        custom_layout.addWidget(self.compare_models_button)
        
        # Add the custom panel to the main layout
        self.main_layout.addWidget(custom_panel)


class CustomARMAXController(ARMAXController):
    """Custom ARMAX controller with additional functionality."""
    
    def __init__(self, model, view):
        super().__init__(model, view)
        
        # Connect custom buttons to handlers
        if hasattr(view, 'export_to_csv_button'):
            view.export_to_csv_button.clicked.connect(self.on_export_to_csv)
        
        if hasattr(view, 'compare_models_button'):
            view.compare_models_button.clicked.connect(self.on_compare_models)
    
    @pyqtSlot()
    def on_export_to_csv(self):
        """Handle export to CSV button click."""
        print("Exporting to CSV...")
        # Implement CSV export logic here
    
    @pyqtSlot()
    def on_compare_models(self):
        """Handle compare models button click."""
        print("Comparing models...")
        # Implement model comparison logic here


def launch_custom_armax_gui(data=None, exog=None):
    """Launch a custom ARMAX GUI with additional features.
    
    Parameters
    ----------
    data : pandas.Series, optional
        The time series data to model
    exog : pandas.DataFrame, optional
        Exogenous variables to include in the model
    """
    # Create a QApplication instance if one doesn't exist
    app = QApplication.instance()
    if app is None:
        app = QApplication(sys.argv)
    
    # Create the MVC components
    model = ARMAXModel(data, exog)
    view = CustomARMAXView()
    controller = CustomARMAXController(model, view)
    
    # Show the GUI
    view.show()
    return app.exec()

# Example usage:
# launch_custom_armax_gui(ts_data, exog=pd.DataFrame({'seasonal': exog}))
```

---

## 10. Understanding the Asynchronous Processing Model

The ARMAX GUI uses Python's async/await pattern integrated with PyQt6's event loop to provide responsive UI during long-running computations. Let's explore how this works in more detail:

```python
import asyncio
import time
from PyQt6.QtCore import QObject, pyqtSignal, QTimer, QEventLoop
from PyQt6.QtWidgets import QApplication, QMainWindow, QVBoxLayout, QProgressBar, QLabel, QPushButton, QWidget


class AsyncDemo(QMainWindow):
    """Demonstration of asynchronous processing in PyQt6."""
    
    def __init__(self):
        super().__init__()
        self.setWindowTitle("Async Processing Demo")
        self.resize(400, 200)
        
        # Create the central widget and layout
        central_widget = QWidget()
        self.setCentralWidget(central_widget)
        layout = QVBoxLayout(central_widget)
        
        # Create UI components
        self.status_label = QLabel("Ready")
        self.progress_bar = QProgressBar()
        self.progress_bar.setRange(0, 100)
        self.start_button = QPushButton("Start Long Computation")
        self.cancel_button = QPushButton("Cancel")
        self.cancel_button.setEnabled(False)
        
        # Add components to layout
        layout.addWidget(self.status_label)
        layout.addWidget(self.progress_bar)
        layout.addWidget(self.start_button)
        layout.addWidget(self.cancel_button)
        
        # Connect signals
        self.start_button.clicked.connect(self.on_start_clicked)
        self.cancel_button.clicked.connect(self.on_cancel_clicked)
        
        # Initialize the async processor
        self.processor = AsyncProcessor()
        self.processor.progress_updated.connect(self.update_progress)
        self.processor.computation_complete.connect(self.on_computation_complete)
        
        # Task reference
        self.current_task = None
    
    def on_start_clicked(self):
        """Handle start button click."""
        self.start_button.setEnabled(False)
        self.cancel_button.setEnabled(True)
        self.status_label.setText("Computing...")
        self.progress_bar.setValue(0)
        
        # Start the async computation
        self.current_task = asyncio.create_task(self.processor.run_long_computation())
    
    def on_cancel_clicked(self):
        """Handle cancel button click."""
        if self.processor:
            self.processor.cancel()
            self.status_label.setText("Cancelled")
            self.reset_ui()
    
    def update_progress(self, percent, message):
        """Update the progress bar and status label."""
        self.progress_bar.setValue(percent)
        self.status_label.setText(message)
    
    def on_computation_complete(self, result):
        """Handle computation completion."""
        self.status_label.setText(f"Computation complete! Result: {result}")
        self.reset_ui()
    
    def reset_ui(self):
        """Reset the UI to its initial state."""
        self.start_button.setEnabled(True)
        self.cancel_button.setEnabled(False)


class AsyncProcessor(QObject):
    """Processor for asynchronous computations."""
    
    # Define signals
    progress_updated = pyqtSignal(int, str)
    computation_complete = pyqtSignal(object)
    
    def __init__(self):
        super().__init__()
        self._running = False
    
    async def run_long_computation(self):
        """Run a simulated long computation with progress updates."""
        self._running = True
        result = 0
        
        # Simulate a computation with 10 steps
        for i in range(10):
            if not self._running:
                return None
            
            # Simulate work
            await asyncio.sleep(0.5)  # Non-blocking sleep
            result += i
            
            # Report progress
            progress = (i + 1) * 10
            self.progress_updated.emit(progress, f"Step {i+1}/10 complete")
        
        # Computation complete
        self._running = False
        self.computation_complete.emit(result)
        return result
    
    def cancel(self):
        """Cancel the current operation."""
        self._running = False


def run_async_demo():
    """Run the async processing demo."""
    # Create a QApplication instance if one doesn't exist
    app = QApplication.instance()
    if app is None:
        app = QApplication(sys.argv)
    
    # Create and show the demo window
    demo = AsyncDemo()
    demo.show()
    
    # Start the event loop
    return app.exec()

# Uncomment to run the demo
# run_async_demo()
```

---

### Key Concepts in Asynchronous Processing

1. **Event Loop Integration**: PyQt6's event loop is integrated with Python's asyncio event loop, allowing asynchronous functions to run without blocking the UI.

2. **Signal-Slot Mechanism**: PyQt6's signal-slot mechanism is used to communicate between the asynchronous computation and the UI thread.

3. **Task Management**: Asynchronous tasks are created and managed using Python's `asyncio.create_task()` function.

4. **Progress Reporting**: The asynchronous computation reports progress through signals, which are connected to UI update slots.

5. **Cancellation Support**: Long-running operations can be cancelled by setting a flag that is checked periodically during the computation.

This asynchronous processing model is used throughout the ARMAX GUI to ensure that the interface remains responsive during computationally intensive operations like model estimation, bootstrap procedures, and forecasting.

---

## 11. Conclusion

The PyQt6-based ARMAX GUI provides a powerful and intuitive interface for time series modeling. Key features include:

1. **Modern UI Framework**: Built with PyQt6, providing a responsive and feature-rich user experience
2. **Asynchronous Processing**: Long-running computations execute without blocking the UI, thanks to Python's async/await pattern
3. **Comprehensive Diagnostics**: Extensive visualization and statistical tests for model validation
4. **Interactive Modeling**: Intuitive controls for model specification and estimation
5. **Extensibility**: Can be customized and extended programmatically to integrate with your workflow

The GUI is designed to make time series modeling accessible to users without requiring extensive coding, while still providing the power and flexibility of the underlying MFE Toolbox.

For more advanced time series modeling that goes beyond the GUI's capabilities, refer to the Time Series Analysis module documentation, which covers the programmatic API in detail.
