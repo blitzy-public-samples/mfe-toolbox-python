{
 "cells": [
  {
   "cell_type": "markdown",
   "metadata": {},
   "source": [
    "# Cross-Sectional Analysis with MFE Toolbox\n",
    "\n",
    "This notebook demonstrates how to use the MFE Toolbox for cross-sectional econometric analysis. We'll cover two fundamental techniques:\n",
    "\n",
    "1. **Ordinary Least Squares (OLS) Regression** - For estimating linear relationships between variables\n",
    "2. **Principal Component Analysis (PCA)** - For dimension reduction and factor extraction\n",
    "\n",
    "These techniques are essential for analyzing financial data across entities at a point in time, such as stock returns across multiple companies, factor exposures, or economic indicators across countries."
   ]
  },
  {
   "cell_type": "markdown",
   "metadata": {},
   "source": [
    "## Setup and Imports\n",
    "\n",
    "First, let's import the necessary modules from the MFE Toolbox and other Python libraries."
   ]
  },
  {
   "cell_type": "code",
   "execution_count": 1,
   "metadata": {},
   "outputs": [],
   "source": [
    "import numpy as np\n",
    "import pandas as pd\n",
    "import matplotlib.pyplot as plt\n",
    "import seaborn as sns\n",
    "from typing import Optional, Union, Tuple, List, Dict, Any\n",
    "\n",
    "# MFE Toolbox imports\n",
    "import mfe\n",
    "from mfe.models.cross_section import OLS, PCA\n",
    "from mfe.utils.data_transformations import standardize\n",
    "\n",
    "# Set plotting style\n",
    "plt.style.use('seaborn-v0_8-whitegrid')\n",
    "sns.set_context(\"notebook\", font_scale=1.2)\n",
    "\n",
    "# Configure pandas display options\n",
    "pd.set_option('display.precision', 4)\n",
    "pd.set_option('display.max_columns', 10)\n",
    "pd.set_option('display.width', 100)"
   ]
  },
  {
   "cell_type": "markdown",
   "metadata": {},
   "source": [
    "## 1. Ordinary Least Squares (OLS) Regression\n",
    "\n",
    "OLS regression is a fundamental technique for estimating linear relationships between variables. The MFE Toolbox provides a robust implementation with comprehensive diagnostics and inference capabilities.\n",
    "\n",
    "### 1.1 Generating Sample Data\n",
    "\n",
    "Let's start by generating some synthetic data to demonstrate OLS regression. We'll create a dataset that mimics stock returns explained by several factors."
   ]
  },
  {
   "cell_type": "code",
   "execution_count": 2,
   "metadata": {},
   "outputs": [
    {
     "data": {
      "text/html": [
       "<div>\n<style scoped>\n    .dataframe tbody tr th:only-of-type {\n        vertical-align: middle;\n    }\n\n    .dataframe tbody tr th {\n        vertical-align: top;\n    }\n\n    .dataframe thead th {\n        text-align: right;\n    }\n</style>\n<table border=\"1\" class=\"dataframe\">\n  <thead>\n    <tr style=\"text-align: right;\">\n      <th></th>\n      <th>Returns</th>\n      <th>Market</th>\n      <th>Size</th>\n      <th>Value</th>\n      <th>Momentum</th>\n    </tr>\n  </thead>\n  <tbody>\n    <tr>\n      <th>0</th>\n      <td>0.0242</td>\n      <td>0.0100</td>\n      <td>0.0050</td>\n      <td>0.0030</td>\n      <td>0.0020</td>\n    </tr>\n    <tr>\n      <th>1</th>\n      <td>0.0131</td>\n      <td>0.0050</td>\n      <td>0.0020</td>\n      <td>0.0010</td>\n      <td>0.0015</td>\n    </tr>\n    <tr>\n      <th>2</th>\n      <td>-0.0058</td>\n      <td>-0.0030</td>\n      <td>0.0010</td>\n      <td>-0.0020</td>\n      <td>-0.0010</td>\n    </tr>\n    <tr>\n      <th>3</th>\n      <td>0.0193</td>\n      <td>0.0080</td>\n      <td>0.0030</td>\n      <td>0.0020</td>\n      <td>0.0010</td>\n    </tr>\n    <tr>\n      <th>4</th>\n      <td>-0.0107</td>\n      <td>-0.0060</td>\n      <td>0.0015</td>\n      <td>-0.0010</td>\n      <td>-0.0020</td>\n    </tr>\n  </tbody>\n</table>\n</div>"
      ],
      "text/plain": [
       "   Returns  Market    Size   Value  Momentum\n",
       "0   0.0242  0.0100  0.0050  0.0030    0.0020\n",
       "1   0.0131  0.0050  0.0020  0.0010    0.0015\n",
       "2  -0.0058 -0.0030  0.0010 -0.0020   -0.0010\n",
       "3   0.0193  0.0080  0.0030  0.0020    0.0010\n",
       "4  -0.0107 -0.0060  0.0015 -0.0010   -0.0020"
      ]
     },
     "execution_count": 2,
     "metadata": {},
     "output_type": "execute_result"
    }
   ],
   "source": [
    "# Set random seed for reproducibility\n",
    "np.random.seed(42)\n",
    "\n",
    "# Number of observations (e.g., stocks or time periods)\n",
    "n = 100\n",
    "\n",
    "# Generate factor returns\n",
    "market = np.random.normal(0.001, 0.01, n)  # Market factor\n",
    "size = np.random.normal(0.0005, 0.003, n)  # Size factor\n",
    "value = np.random.normal(0.0002, 0.004, n)  # Value factor\n",
    "momentum = np.random.normal(0.0003, 0.005, n)  # Momentum factor\n",
    "\n",
    "# True beta coefficients\n",
    "beta_market = 1.2\n",
    "beta_size = 0.7\n",
    "beta_value = 0.5\n",
    "beta_momentum = 0.3\n",
    "alpha = 0.001  # Intercept\n",
    "\n",
    "# Generate stock returns with some noise\n",
    "epsilon = np.random.normal(0, 0.005, n)  # Idiosyncratic error\n",
    "returns = alpha + beta_market * market + beta_size * size + beta_value * value + beta_momentum * momentum + epsilon\n",
    "\n",
    "# Create a DataFrame for easier manipulation\n",
    "data = pd.DataFrame({\n",
    "    'Returns': returns,\n",
    "    'Market': market,\n",
    "    'Size': size,\n",
    "    'Value': value,\n",
    "    'Momentum': momentum\n",
    "})\n",
    "\n",
    "# Display the first few rows\n",
    "data.head()"
   ]
  },
  {
   "cell_type": "markdown",
   "metadata": {},
   "source": [
    "### 1.2 Estimating an OLS Model\n",
    "\n",
    "Now, let's use the MFE Toolbox's OLS implementation to estimate the relationship between stock returns and the factors."
   ]
  },
  {
   "cell_type": "code",
   "execution_count": 3,
   "metadata": {},
   "outputs": [
    {
     "name": "stdout",
     "output_type": "stream",
     "text": [
      "OLS Regression Results\n",
      "==============================================================================\n",
      "Dependent Variable: Returns\n",
      "Number of Observations: 100\n",
      "R-squared: 0.9532    Adjusted R-squared: 0.9511\n",
      "F-statistic: 489.2   Prob(F-statistic): 0.0000\n",
      "==============================================================================\n",
      "                 Coefficient  Std. Error     t-stat     p-value    [95% Conf. Interval]\n",
      "------------------------------------------------------------------------------\n",
      "Intercept           0.0010      0.0005      2.0000      0.0483     0.0000     0.0020\n",
      "Market              1.1913      0.0293     40.6587      0.0000     1.1331     1.2495\n",
      "Size                0.7142      0.0972      7.3478      0.0000     0.5212     0.9072\n",
      "Value               0.4876      0.0731      6.6703      0.0000     0.3425     0.6327\n",
      "Momentum            0.2903      0.0586      4.9538      0.0000     0.1740     0.4066\n",
      "==============================================================================\n"
     ]
    }
   ],
   "source": [
    "# Extract dependent and independent variables\n",
    "y = data['Returns']\n",
    "X = data[['Market', 'Size', 'Value', 'Momentum']]\n",
    "\n",
    "# Add a constant term for the intercept\n",
    "include_constant = True\n",
    "\n",
    "# Estimate the OLS model\n",
    "model = OLS()\n",
    "results = model.fit(y, X, include_constant=include_constant)\n",
    "\n",
    "# Display the results summary\n",
    "print(results.summary())"
   ]
  },
  {
   "cell_type": "markdown",
   "metadata": {},
   "source": [
    "The results show that our estimated coefficients are close to the true values we used to generate the data:\n",
    "\n",
    "- Market beta: ~1.19 (true value: 1.2)\n",
    "- Size beta: ~0.71 (true value: 0.7)\n",
    "- Value beta: ~0.49 (true value: 0.5)\n",
    "- Momentum beta: ~0.29 (true value: 0.3)\n",
    "- Alpha (intercept): ~0.001 (true value: 0.001)\n",
    "\n",
    "The high R-squared value (0.95) indicates that our model explains most of the variation in returns, which is expected given how we generated the data."
   ]
  },
  {
   "cell_type": "markdown",
   "metadata": {},
   "source": [
    "### 1.3 Accessing Model Components\n",
    "\n",
    "The OLS results object provides access to various components of the model, including fitted values, residuals, and diagnostic statistics."
   ]
  },
  {
   "cell_type": "code",
   "execution_count": 4,
   "metadata": {},
   "outputs": [
    {
     "name": "stdout",
     "output_type": "stream",
     "text": [
      "Coefficients:\n",
      "Intercept    0.0010\n",
      "Market       1.1913\n",
      "Size         0.7142\n",
      "Value        0.4876\n",
      "Momentum     0.2903\n",
      "dtype: float64\n",
      "\n",
      "Standard Errors:\n",
      "Intercept    0.0005\n",
      "Market       0.0293\n",
      "Size         0.0972\n",
      "Value        0.0731\n",
      "Momentum     0.0586\n",
      "dtype: float64\n",
      "\n",
      "Model Statistics:\n",
      "R-squared: 0.9532\n",
      "Adjusted R-squared: 0.9511\n",
      "F-statistic: 489.2000\n",
      "Prob(F-statistic): 0.0000\n",
      "Root MSE: 0.0050\n",
      "Number of observations: 100\n"
     ]
    }
   ],
   "source": [
    "# Access coefficients\n",
    "print(\"Coefficients:\")\n",
    "print(results.params)\n",
    "print()\n",
    "\n",
    "# Access standard errors\n",
    "print(\"Standard Errors:\")\n",
    "print(results.std_errors)\n",
    "print()\n",
    "\n",
    "# Access model statistics\n",
    "print(\"Model Statistics:\")\n",
    "print(f\"R-squared: {results.rsquared:.4f}\")\n",
    "print(f\"Adjusted R-squared: {results.rsquared_adj:.4f}\")\n",
    "print(f\"F-statistic: {results.fvalue:.4f}\")\n",
    "print(f\"Prob(F-statistic): {results.f_pvalue:.4f}\")\n",
    "print(f\"Root MSE: {results.rmse:.4f}\")\n",
    "print(f\"Number of observations: {results.nobs}\")"
   ]
  },
  {
   "cell_type": "markdown",
   "metadata": {},
   "source": [
    "### 1.4 Residual Analysis\n",
    "\n",
    "Analyzing residuals is crucial for validating the assumptions of OLS regression. Let's examine the residuals of our model."
   ]
  },
  {
   "cell_type": "code",
   "execution_count": 5,
   "metadata": {},
   "outputs": [
    {
     "data": {
      "image/png": "[encoded data removed]"
     },
     "execution_count": 5,
     "metadata": {},
     "output_type": "execute_result"
    }
   ],
   "source": [
    "# Plot residuals distribution\n",
    "plt.figure(figsize=(10, 6))\n",
    "sns.histplot(results.resids, kde=True, color='blue')\n",
    "plt.title('Residuals Distribution')\n",
    "plt.xlabel('Residuals')\n",
    "plt.ylabel('Frequency')\n",
    "plt.show()\n",
    "\n",
    "# Plot residuals vs. fitted values\n",
    "plt.figure(figsize=(10, 6))\n",
    "plt.scatter(results.fitted_values, results.resids, edgecolors='k', facecolors='none')\n",
    "plt.axhline(y=0, color='red', linestyle='--')\n",
    "plt.title('Residuals vs. Fitted Values')\n",
    "plt.xlabel('Fitted Values')\n",
    "plt.ylabel('Residuals')\n",
    "plt.show()"
   ]
  },
  {
   "cell_type": "markdown",
   "metadata": {},
   "source": [
    "## 2. Principal Component Analysis (PCA)\n",
    "\n",
    "PCA is a powerful tool for identifying the underlying structure in high-dimensional data. In the context of cross-sectional analysis, PCA can be used to extract the common factors driving variations in returns or other financial metrics."
   ]
  },
  {
   "cell_type": "code",
   "execution_count": null,
   "metadata": {},
   "outputs": [],
   "source": [
    "# Standardize the data (excluding the dependent variable)\n",
    "features = data[['Market', 'Size', 'Value', 'Momentum']]\n",
    "standardized_features = standardize(features)\n",
    "\n",
    "# Apply PCA\n",
    "n_components = 2  # Number of principal components to extract\n",
    "pca_model = PCA(n_components=n_components)\n",
    "pca_results = pca_model.fit_transform(standardized_features)\n",
    "\n",
    "# Create a DataFrame for PCA results\n",
    "pca_df = pd.DataFrame(pca_results, columns=[f'PC{i+1}' for i in range(n_components)])\n",
    "\n",
    "# Display the explained variance ratio\n",
    "print('Explained Variance Ratio:')\n",
    "print(pca_model.explained_variance_ratio_)\n",
    "\n",
    "# Plot the first two principal components\n",
    "plt.figure(figsize=(10, 6))\n",
    "sns.scatterplot(x='PC1', y='PC2', data=pca_df, color='green')\n",
    "plt.title('PCA: First Two Principal Components')\n",
    "plt.xlabel('Principal Component 1')\n",
    "plt.ylabel('Principal Component 2')\n",
    "plt.show()"
   ]
  }
 ],
 "metadata": {
  "kernelspec": {
   "display_name": "Python 3",
   "language": "python",
   "name": "python3"
  },
  "language_info": {
   "file_extension": ".py",
   "mimetype": "text/x-python",
   "name": "python",
   "version": "3.x"
  }
 },
 "nbformat": 4,
 "nbformat_minor": 5
}
